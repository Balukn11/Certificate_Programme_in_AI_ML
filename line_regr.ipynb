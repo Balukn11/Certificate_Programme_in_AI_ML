{
 "cells": [
  {
   "cell_type": "code",
   "execution_count": 1,
   "metadata": {},
   "outputs": [],
   "source": [
    "from random import randint"
   ]
  },
  {
   "cell_type": "code",
   "execution_count": 2,
   "metadata": {},
   "outputs": [],
   "source": [
    "TRAIN_SET_LIMIT = 1000\n",
    "TRAIN_SET_COUNT = 100"
   ]
  },
  {
   "cell_type": "code",
   "execution_count": 3,
   "metadata": {},
   "outputs": [],
   "source": [
    "TRAIN_INPUT = list()\n",
    "TRAIN_OUTPUT = list()"
   ]
  },
  {
   "cell_type": "code",
   "execution_count": 4,
   "metadata": {},
   "outputs": [],
   "source": [
    "for i in range(TRAIN_SET_COUNT):\n",
    "    a = randint(0, TRAIN_SET_LIMIT)\n",
    "    b = randint(0, TRAIN_SET_LIMIT)\n",
    "    c = randint(0, TRAIN_SET_LIMIT)\n",
    "    op = a + (2*b) + (3*c)\n",
    "    TRAIN_INPUT.append([a, b, c])\n",
    "    TRAIN_OUTPUT.append(op)\n",
    "    "
   ]
  },
  {
   "cell_type": "code",
   "execution_count": 7,
   "metadata": {},
   "outputs": [
    {
     "data": {
      "text/plain": [
       "[[268, 529, 742],\n",
       " [677, 457, 837],\n",
       " [649, 432, 40],\n",
       " [638, 468, 975],\n",
       " [900, 183, 377],\n",
       " [653, 859, 113],\n",
       " [720, 393, 619],\n",
       " [926, 494, 450],\n",
       " [169, 235, 364],\n",
       " [909, 412, 98],\n",
       " [494, 120, 405],\n",
       " [215, 343, 681],\n",
       " [850, 178, 167],\n",
       " [106, 338, 706],\n",
       " [478, 61, 404],\n",
       " [332, 721, 285],\n",
       " [318, 287, 46],\n",
       " [413, 423, 7],\n",
       " [744, 229, 181],\n",
       " [171, 376, 687],\n",
       " [657, 880, 810],\n",
       " [260, 152, 985],\n",
       " [807, 312, 412],\n",
       " [166, 688, 320],\n",
       " [391, 385, 62],\n",
       " [837, 940, 384],\n",
       " [975, 217, 893],\n",
       " [266, 218, 58],\n",
       " [32, 740, 442],\n",
       " [3, 849, 287],\n",
       " [94, 691, 881],\n",
       " [625, 580, 743],\n",
       " [481, 144, 660],\n",
       " [449, 328, 13],\n",
       " [814, 301, 206],\n",
       " [98, 874, 57],\n",
       " [315, 355, 299],\n",
       " [235, 288, 669],\n",
       " [150, 672, 77],\n",
       " [76, 943, 146],\n",
       " [135, 326, 618],\n",
       " [498, 544, 846],\n",
       " [233, 334, 839],\n",
       " [955, 879, 243],\n",
       " [748, 536, 997],\n",
       " [641, 701, 266],\n",
       " [992, 34, 735],\n",
       " [669, 218, 747],\n",
       " [48, 982, 166],\n",
       " [782, 630, 609],\n",
       " [44, 845, 819],\n",
       " [471, 528, 528],\n",
       " [257, 767, 869],\n",
       " [774, 537, 345],\n",
       " [225, 558, 938],\n",
       " [654, 266, 451],\n",
       " [200, 16, 960],\n",
       " [616, 490, 889],\n",
       " [899, 438, 193],\n",
       " [4, 466, 116],\n",
       " [402, 828, 595],\n",
       " [680, 856, 216],\n",
       " [562, 939, 116],\n",
       " [328, 561, 419],\n",
       " [567, 988, 697],\n",
       " [810, 274, 90],\n",
       " [366, 905, 546],\n",
       " [598, 508, 682],\n",
       " [490, 467, 466],\n",
       " [568, 291, 3],\n",
       " [601, 538, 215],\n",
       " [946, 905, 952],\n",
       " [889, 412, 202],\n",
       " [940, 280, 336],\n",
       " [61, 460, 220],\n",
       " [666, 507, 1000],\n",
       " [302, 575, 462],\n",
       " [915, 964, 787],\n",
       " [69, 294, 100],\n",
       " [689, 94, 741],\n",
       " [694, 556, 813],\n",
       " [296, 174, 928],\n",
       " [631, 740, 906],\n",
       " [144, 545, 111],\n",
       " [645, 268, 941],\n",
       " [799, 155, 485],\n",
       " [988, 658, 147],\n",
       " [70, 786, 760],\n",
       " [830, 386, 266],\n",
       " [800, 862, 86],\n",
       " [989, 539, 668],\n",
       " [36, 504, 638],\n",
       " [890, 809, 302],\n",
       " [671, 962, 387],\n",
       " [330, 783, 72],\n",
       " [532, 265, 857],\n",
       " [577, 22, 727],\n",
       " [999, 315, 160],\n",
       " [858, 294, 75],\n",
       " [568, 825, 378]]"
      ]
     },
     "execution_count": 7,
     "metadata": {},
     "output_type": "execute_result"
    }
   ],
   "source": [
    "TRAIN_INPUT"
   ]
  },
  {
   "cell_type": "code",
   "execution_count": 8,
   "metadata": {},
   "outputs": [
    {
     "data": {
      "text/plain": [
       "[3552,\n",
       " 4102,\n",
       " 1633,\n",
       " 4499,\n",
       " 2397,\n",
       " 2710,\n",
       " 3363,\n",
       " 3264,\n",
       " 1731,\n",
       " 2027,\n",
       " 1949,\n",
       " 2944,\n",
       " 1707,\n",
       " 2900,\n",
       " 1812,\n",
       " 2629,\n",
       " 1030,\n",
       " 1280,\n",
       " 1745,\n",
       " 2984,\n",
       " 4847,\n",
       " 3519,\n",
       " 2667,\n",
       " 2502,\n",
       " 1347,\n",
       " 3869,\n",
       " 4088,\n",
       " 876,\n",
       " 2838,\n",
       " 2562,\n",
       " 4119,\n",
       " 4014,\n",
       " 2749,\n",
       " 1144,\n",
       " 2034,\n",
       " 2017,\n",
       " 1922,\n",
       " 2818,\n",
       " 1725,\n",
       " 2400,\n",
       " 2641,\n",
       " 4124,\n",
       " 3418,\n",
       " 3442,\n",
       " 4811,\n",
       " 2841,\n",
       " 3265,\n",
       " 3346,\n",
       " 2510,\n",
       " 3869,\n",
       " 4191,\n",
       " 3111,\n",
       " 4398,\n",
       " 2883,\n",
       " 4155,\n",
       " 2539,\n",
       " 3112,\n",
       " 4263,\n",
       " 2354,\n",
       " 1284,\n",
       " 3843,\n",
       " 3040,\n",
       " 2788,\n",
       " 2707,\n",
       " 4634,\n",
       " 1628,\n",
       " 3814,\n",
       " 3660,\n",
       " 2822,\n",
       " 1159,\n",
       " 2322,\n",
       " 5612,\n",
       " 2319,\n",
       " 2508,\n",
       " 1641,\n",
       " 4680,\n",
       " 2838,\n",
       " 5204,\n",
       " 957,\n",
       " 3100,\n",
       " 4245,\n",
       " 3428,\n",
       " 4829,\n",
       " 1567,\n",
       " 4004,\n",
       " 2564,\n",
       " 2745,\n",
       " 3922,\n",
       " 2400,\n",
       " 2782,\n",
       " 4071,\n",
       " 2958,\n",
       " 3414,\n",
       " 3756,\n",
       " 2112,\n",
       " 3633,\n",
       " 2802,\n",
       " 2109,\n",
       " 1671,\n",
       " 3352]"
      ]
     },
     "execution_count": 8,
     "metadata": {},
     "output_type": "execute_result"
    }
   ],
   "source": [
    "TRAIN_OUTPUT"
   ]
  },
  {
   "cell_type": "code",
   "execution_count": 5,
   "metadata": {},
   "outputs": [],
   "source": [
    "from sklearn.linear_model import LinearRegression"
   ]
  },
  {
   "cell_type": "code",
   "execution_count": 9,
   "metadata": {},
   "outputs": [
    {
     "data": {
      "text/plain": [
       "LinearRegression(copy_X=True, fit_intercept=True, n_jobs=-1, normalize=False)"
      ]
     },
     "execution_count": 9,
     "metadata": {},
     "output_type": "execute_result"
    }
   ],
   "source": [
    "predictor  = LinearRegression(n_jobs =-1)\n",
    "predictor.fit(X=TRAIN_INPUT, y=TRAIN_OUTPUT)"
   ]
  },
  {
   "cell_type": "code",
   "execution_count": 10,
   "metadata": {},
   "outputs": [],
   "source": [
    "X_TEST = [[7, 110, 15]]\n",
    "outcome = predictor.predict(X=X_TEST)\n",
    "coefficients = predictor.coef_"
   ]
  },
  {
   "cell_type": "code",
   "execution_count": 11,
   "metadata": {},
   "outputs": [
    {
     "name": "stdout",
     "output_type": "stream",
     "text": [
      "Outcome : [272.]\n",
      "Coefficients : [1. 2. 3.]\n"
     ]
    }
   ],
   "source": [
    "print('Outcome : {}\\nCoefficients : {}'.format(outcome, coefficients))"
   ]
  },
  {
   "cell_type": "code",
   "execution_count": null,
   "metadata": {},
   "outputs": [],
   "source": []
  },
  {
   "cell_type": "code",
   "execution_count": null,
   "metadata": {},
   "outputs": [],
   "source": []
  },
  {
   "cell_type": "code",
   "execution_count": null,
   "metadata": {},
   "outputs": [],
   "source": []
  },
  {
   "cell_type": "code",
   "execution_count": null,
   "metadata": {},
   "outputs": [],
   "source": []
  },
  {
   "cell_type": "code",
   "execution_count": null,
   "metadata": {},
   "outputs": [],
   "source": []
  },
  {
   "cell_type": "code",
   "execution_count": null,
   "metadata": {},
   "outputs": [],
   "source": []
  },
  {
   "cell_type": "code",
   "execution_count": null,
   "metadata": {},
   "outputs": [],
   "source": []
  },
  {
   "cell_type": "code",
   "execution_count": null,
   "metadata": {},
   "outputs": [],
   "source": []
  },
  {
   "cell_type": "code",
   "execution_count": null,
   "metadata": {},
   "outputs": [],
   "source": []
  },
  {
   "cell_type": "code",
   "execution_count": null,
   "metadata": {},
   "outputs": [],
   "source": []
  },
  {
   "cell_type": "code",
   "execution_count": null,
   "metadata": {},
   "outputs": [],
   "source": []
  },
  {
   "cell_type": "code",
   "execution_count": null,
   "metadata": {},
   "outputs": [],
   "source": []
  },
  {
   "cell_type": "code",
   "execution_count": null,
   "metadata": {},
   "outputs": [],
   "source": []
  },
  {
   "cell_type": "code",
   "execution_count": null,
   "metadata": {},
   "outputs": [],
   "source": []
  },
  {
   "cell_type": "code",
   "execution_count": null,
   "metadata": {},
   "outputs": [],
   "source": []
  },
  {
   "cell_type": "code",
   "execution_count": null,
   "metadata": {},
   "outputs": [],
   "source": []
  }
 ],
 "metadata": {
  "kernelspec": {
   "display_name": "Python 3",
   "language": "python",
   "name": "python3"
  },
  "language_info": {
   "codemirror_mode": {
    "name": "ipython",
    "version": 3
   },
   "file_extension": ".py",
   "mimetype": "text/x-python",
   "name": "python",
   "nbconvert_exporter": "python",
   "pygments_lexer": "ipython3",
   "version": "3.7.0"
  }
 },
 "nbformat": 4,
 "nbformat_minor": 2
}
